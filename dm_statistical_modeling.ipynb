{
 "cells": [
  {
   "cell_type": "markdown",
   "metadata": {},
   "source": [
    "# Statistical Modeling"
   ]
  },
  {
   "cell_type": "markdown",
   "metadata": {},
   "source": [
    "We will go through the following process:\n",
    "   ** Explore data -> Fit model -> Evaluate model -> Deploy model**"
   ]
  },
  {
   "cell_type": "code",
   "execution_count": null,
   "metadata": {},
   "outputs": [],
   "source": [
    "# Import relevant libraries\n",
    "import numpy as np \n",
    "import pandas as pd\n",
    "import statsmodels.api as sm\n",
    "from statsmodels.formula.api import ols\n",
    "import seaborn as sns\n",
    "import matplotlib.pyplot as plt\n",
    "%matplotlib inline\n",
    "from statsmodels.stats.outliers_influence import variance_inflation_factor as vif\n",
    "import missingno # To install this package with conda run one of the following: conda install -c conda-forge missingno "
   ]
  },
  {
   "cell_type": "markdown",
   "metadata": {},
   "source": [
    "# Step 1. Explore Data\n",
    "\n",
    "Perform exploratory analysis on the variables using the whole data set.\n",
    "Describe the data and comment on your observations/findings."
   ]
  },
  {
   "cell_type": "code",
   "execution_count": null,
   "metadata": {},
   "outputs": [],
   "source": [
    "#df = pd.read_excel('Glycohemoglobin_t1.xlsx')\n",
    "#df = pd.read_excel('Glycohemoglobin_t3.xlsx')\n",
    "#df = pd.read_excel('Glycohemoglobin_t4.xlsx')\n",
    "df = pd.read_excel('Glycohemoglobin_t4_ShortName.xlsx')"
   ]
  },
  {
   "cell_type": "code",
   "execution_count": null,
   "metadata": {},
   "outputs": [],
   "source": [
    "df.head()"
   ]
  },
  {
   "cell_type": "code",
   "execution_count": null,
   "metadata": {},
   "outputs": [],
   "source": [
    "missingno.matrix(dftrain2, figsize = (30,10))"
   ]
  },
  {
   "cell_type": "code",
   "execution_count": null,
   "metadata": {},
   "outputs": [],
   "source": [
    "# To check data types, type: df.dtypes\n",
    "df.dtypes"
   ]
  },
  {
   "cell_type": "code",
   "execution_count": null,
   "metadata": {},
   "outputs": [],
   "source": [
    "df.shape"
   ]
  },
  {
   "cell_type": "code",
   "execution_count": null,
   "metadata": {},
   "outputs": [],
   "source": [
    "df.describe(include='all')"
   ]
  },
  {
   "cell_type": "code",
   "execution_count": null,
   "metadata": {},
   "outputs": [],
   "source": [
    "# To visualise correlation matrix in a heatmap, type: sns.heatmap(df.corr(), annot=True, cmap='coolwarm');\n",
    "# sns.heatmap(df.corr(), annot=True, cmap='coolwarm');\n",
    "plt.figure(figsize=(12, 10))  # Adjust the figure size\n",
    "heatmap = sns.heatmap(df.corr(), annot=True, cmap='coolwarm', fmt=\".2f\", annot_kws={\"size\": 8})\n",
    "heatmap.set_xticklabels(heatmap.get_xticklabels(), rotation=45, horizontalalignment='right', fontsize=8)\n",
    "heatmap.set_yticklabels(heatmap.get_yticklabels(), fontsize=8)\n",
    "plt.show()"
   ]
  },
  {
   "cell_type": "code",
   "execution_count": null,
   "metadata": {},
   "outputs": [],
   "source": [
    "def correlation_heatmap(df):\n",
    "    plt.figure(figsize=(16, 14))\n",
    "    colormap = sns.diverging_palette(220, 10, as_cmap=True)\n",
    "    \n",
    "    sns.heatmap(\n",
    "        df.corr(), \n",
    "        cmap=colormap,\n",
    "        square=True, \n",
    "        cbar_kws={'shrink': 0.9}, \n",
    "        annot=True, \n",
    "        linewidths=0.9,\n",
    "        vmax=1.0, \n",
    "        linecolor='white',\n",
    "        annot_kws={'fontsize': 9}\n",
    "    )\n",
    "    \n",
    "    plt.title('Pearson Correlation of Features', y=1.05, size=15)\n",
    "    plt.xticks(rotation=45, ha='right')\n",
    "    plt.yticks(rotation=0)\n",
    "    plt.show()\n",
    "\n",
    "# Assuming 'df' is your DataFrame\n",
    "correlation_heatmap(df)"
   ]
  },
  {
   "cell_type": "code",
   "execution_count": null,
   "metadata": {},
   "outputs": [],
   "source": [
    "# To visualise pairwise relationship using Seaborn pairplot, type: sns.pairplot(df);\n",
    "# Caution: It may take some time to generate a pairplot, especially when number of features is large.\n",
    "sns.pairplot(df);"
   ]
  },
  {
   "cell_type": "markdown",
   "metadata": {},
   "source": [
    "# Step 2. Fit Model\n",
    "\n",
    "Split the data set into training set and testing set in a (approximate) ratio 75:25.\n",
    "Set random state/seed using the last 4 digits of your SP admission number.\n",
    "Fit the full additive MLR model on the training set.\n",
    "\n",
    "#### Build a full MLR model for Y (pCASP9) using the predictors (X1 to X10, Genotype, Treatment and Behavior)."
   ]
  },
  {
   "cell_type": "code",
   "execution_count": null,
   "metadata": {},
   "outputs": [],
   "source": [
    "# Split data set into 75:25.\n",
    "\n",
    "from sklearn.model_selection import train_test_split\n",
    "dftrain, dftest = train_test_split(df, test_size=0.25, random_state=1938)\n",
    "\n",
    "# If you want to confirm ratio splitted:\n",
    "print( len(dftrain)/len(df) )\n",
    "print( len(dftest)/len(df) )"
   ]
  },
  {
   "cell_type": "code",
   "execution_count": null,
   "metadata": {},
   "outputs": [],
   "source": [
    "#mlr_full = ols(\"diabetes ~ Sex + Age + Race_Or_Ethnicity + Income_Min +\tIncome_Max + On_Insulin_or_Diabetes_Meds + Weight_Kg + Height_cm + BMI + Upper_Leg_Length_cm + Upper_Arm_Length_cm + Arm_Circumference_cm + Waist_Circumference_cm + Triceps_Skinfold_mm + Subscapular_Skinfold_mm  + Albumin_g-dL + Blood_urea_nitrogen_mg-dl + Creatinine_mg-dl + gh#\", dftrain).fit()\n",
    "#mlr_full = ols(\n",
    "#    \"diabetes ~ Sex + Age + Race_Or_Ethnicity + Income_Min + Income_Max + On_Insulin_or_Diabetes_Meds + \" \n",
    "#    \"Weight_Kg + Height_cm + BMI + Upper_Leg_Length_cm + Upper_Arm_Length_cm + Arm_Circumference_cm + \" \n",
    "#    \"Waist_Circumference_cm + Triceps_Skinfold_mm + Subscapular_Skinfold_mm + Albumin_g_dL + \" \n",
    "#    \"Blood_urea_nitrogen_mg_dl + Creatinine_mg_dl + gh\", dftrain\n",
    "#).fit()\n",
    "\n",
    "formula = (\n",
    "    \"diabetes ~ Sex + Age + Race_Or_Ethnicity + Income_Min + Income_Max + On_Insulin_or_Diabetes_Meds + Weight_Kg + Height_cm + BMI + Up_Leg_Len + Up_Arm_Len + Arm_Cir + Waist_Cir + Triceps_Sk + Subscapular_Sk + Alibumin + Blood_Urea + Creatinine + gh\"\n",
    ")\n",
    "mlr_full = ols(formula, dftrain).fit()\n",
    "\n",
    "print(mlr_full.summary())\n",
    "print('\\nMSE =', mlr_full.mse_resid)"
   ]
  },
  {
   "cell_type": "markdown",
   "metadata": {},
   "source": [
    "# Step 3: Evaluate Model\n",
    "\n",
    "Conduct relevant diagnostics on the full MLR model fitted.\n",
    "Evaluate the model from the perspectives of model fit, prediction accuracy, model/predictor significance, and checking of assumptions.\n",
    "\n",
    "How well does the model fit the data?\n",
    "Is the model likely to be useful for prediction?\n",
    "Are any of the basic assumptions violated?\n",
    "\n",
    "We can perform the following dianostics:\n",
    "- Check goodness of fit ($R^2$)\n",
    "- Check accuracy (MSE)\n",
    "- Test the slope and overall model\n",
    "- Check assumptions by producing residual plots"
   ]
  },
  {
   "cell_type": "markdown",
   "metadata": {},
   "source": [
    "## _Check goodness of fit ($R^2$) and accuracy (MSE)_"
   ]
  },
  {
   "cell_type": "code",
   "execution_count": null,
   "metadata": {},
   "outputs": [],
   "source": [
    "# To extract Rsq value, type: modelname.rsquared\n",
    "mlr_full.rsquared"
   ]
  },
  {
   "cell_type": "markdown",
   "metadata": {},
   "source": [
    "### 60%, moderate fit, of the variability "
   ]
  },
  {
   "cell_type": "markdown",
   "metadata": {},
   "source": [
    "## _Check assumptions: normality_\n",
    "\n",
    "We can use visualizations or run statistical tests to check if residuals satisfy the normality assumption.\n",
    "- Histogram of residual should be bell-shaped.\n",
    "- QQ plot of residuals should be a diagonal straight line.\n",
    "- [Jarque-Bera test](https://en.wikipedia.org/wiki/Jarque%E2%80%93Bera_test): we want to see \"large\" p-value so as not to reject normality. [[Documentation]](https://www.statsmodels.org/dev/generated/statsmodels.stats.stattools.jarque_bera.html#statsmodels.stats.stattools.jarque_bera)\n",
    "- Ominibus test: we want to see \"large\" p-value so as not to reject normality. See references in [statsmodel](https://www.statsmodels.org/dev/generated/statsmodels.stats.stattools.omni_normtest.html#statsmodels.stats.stattools.omni_normtest) or the [scipy.stats](https://docs.scipy.org/doc/scipy/reference/generated/scipy.stats.normaltest.html)."
   ]
  },
  {
   "cell_type": "code",
   "execution_count": null,
   "metadata": {},
   "outputs": [],
   "source": [
    "# To produce residual plots, we have to extract the residuals first. Type: residname = modelname.resid\n",
    "res = mlr_full.resid\n",
    "len(res)"
   ]
  },
  {
   "cell_type": "code",
   "execution_count": null,
   "metadata": {},
   "outputs": [],
   "source": [
    "# Check whether residuals are normally distributed visually in a histogram.\n",
    "# Type: plt.hist(residname);\n",
    "plt.hist(res);"
   ]
  },
  {
   "cell_type": "code",
   "execution_count": null,
   "metadata": {},
   "outputs": [],
   "source": [
    "# Alternatively, use a distribution plot which is a histogram with a smooth curve fitted to it.\n",
    "# Type: sns.distplot(residname);\n",
    "sns.distplot(res);"
   ]
  },
  {
   "cell_type": "code",
   "execution_count": null,
   "metadata": {},
   "outputs": [],
   "source": [
    "# Construct a QQ plot of residuals. Type: sm.qqplot(residname, line='s');\n",
    "sm.qqplot(res, line='s');"
   ]
  },
  {
   "cell_type": "markdown",
   "metadata": {},
   "source": [
    "## To perform the Jarque-Bera test on residuals, type: sm.stats.jarque_bera(residname)\n",
    "#### The function returns: JB test statistic, p-value, estimated skewness, estimated kurtosis\n"
   ]
  },
  {
   "cell_type": "code",
   "execution_count": null,
   "metadata": {},
   "outputs": [],
   "source": [
    "sm.stats.jarque_bera(res)"
   ]
  },
  {
   "cell_type": "markdown",
   "metadata": {},
   "source": [
    "## To perform the Omnibus test on residuals, type: sm.stats.omni_normtest(residname)"
   ]
  },
  {
   "cell_type": "code",
   "execution_count": null,
   "metadata": {},
   "outputs": [],
   "source": [
    "sm.stats.omni_normtest(res)"
   ]
  },
  {
   "cell_type": "markdown",
   "metadata": {},
   "source": [
    "## Conduct Shapiro-Wilk normality test. The function returns test statistics and P-value."
   ]
  },
  {
   "cell_type": "code",
   "execution_count": null,
   "metadata": {},
   "outputs": [],
   "source": [
    "from scipy.stats import shapiro\n",
    "shapiro(res)"
   ]
  },
  {
   "cell_type": "markdown",
   "metadata": {},
   "source": [
    "## Two ways to to conduct Anderson-Darling normality test\n",
    "#### One uses the scipy library, and one uses the statsmodel library\n",
    "#### scipy: returns test statistic and critical values. Reject H0 if test statistic > critical value\n",
    "#### statsmodel: returns test statistics and P-value"
   ]
  },
  {
   "cell_type": "code",
   "execution_count": null,
   "metadata": {},
   "outputs": [],
   "source": [
    "from scipy.stats import anderson\n",
    "anderson(res)"
   ]
  },
  {
   "cell_type": "code",
   "execution_count": null,
   "metadata": {},
   "outputs": [],
   "source": [
    "sm.stats.normal_ad(res)"
   ]
  },
  {
   "cell_type": "markdown",
   "metadata": {},
   "source": [
    "## _Check Assumption: Homoscedasticity_\n",
    "\n",
    "We can use visualization or run statistical test to check if residuals satisfy the homoscedasticity assumption.\n",
    "- Plot of residuals vs. fitted values should be \"bounded in a horizontal band\".\n",
    "- [Breusch–Pagan test](https://en.wikipedia.org/wiki/Breusch%E2%80%93Pagan_test): we want to see \"large\" p-value so as not to reject homoscedasticity. [[Documentation]](https://www.statsmodels.org/dev/generated/statsmodels.stats.diagnostic.het_breuschpagan.html#statsmodels.stats.diagnostic.het_breuschpagan)"
   ]
  },
  {
   "cell_type": "code",
   "execution_count": null,
   "metadata": {},
   "outputs": [],
   "source": [
    "sns.residplot(x=mlr_full.fittedvalues, y=res, lowess=True)\n",
    "plt.title('Residual Plot')\n",
    "plt.xlabel('Fitted Values')\n",
    "plt.ylabel('Residuals')\n",
    "plt.show()"
   ]
  },
  {
   "cell_type": "code",
   "execution_count": null,
   "metadata": {},
   "outputs": [],
   "source": [
    "# Perform the Breusch-Pagan test on residuals. Type: sm.stats.het_breuschpagan(residname, modelname.model.exog)\n",
    "# The function returns: Lagrange multiplier statistic, p-value, F-value for B-P Constant Variance, F p-value\n",
    "sm.stats.het_breuschpagan(res, mlr_full.model.exog)"
   ]
  },
  {
   "cell_type": "markdown",
   "metadata": {},
   "source": [
    "#### Reject H0 (p-value = 1.1201)\n",
    "#### Non-constant variance, even non-linear effect"
   ]
  },
  {
   "cell_type": "markdown",
   "metadata": {},
   "source": [
    "## _Check assumptions: independence_"
   ]
  },
  {
   "cell_type": "code",
   "execution_count": null,
   "metadata": {},
   "outputs": [],
   "source": [
    "# Plot a line chart of the residuals, according to their observed order, to visually check independence.\n",
    "# Type: \n",
    "plt.plot(res);\n",
    "# Add in titles and axes labels\n",
    "plt.title('Residuals vs Observation Order')\n",
    "plt.xlabel('Observation Order')\n",
    "plt.ylabel('Residuals');"
   ]
  },
  {
   "cell_type": "markdown",
   "metadata": {},
   "source": [
    "#### No autocorrelation"
   ]
  },
  {
   "cell_type": "markdown",
   "metadata": {},
   "source": [
    "# Perform the Durbin-Watson test on residuals. Type: sm.stats.durbin_watson(residname)"
   ]
  },
  {
   "cell_type": "code",
   "execution_count": null,
   "metadata": {},
   "outputs": [],
   "source": [
    "sm.stats.durbin_watson(res)\n",
    "# no autocorrelation"
   ]
  },
  {
   "cell_type": "markdown",
   "metadata": {},
   "source": [
    "## _Multicollinearity_\n",
    "\n",
    "We can check for multicollinearity in the data set by:\n",
    "- Visually inspect the correlation matrix for correlated predictors.\n",
    "- Check the [condition number](https://en.wikipedia.org/wiki/Condition_number).  As a general rule of thumb, if the condition number is more than 30, the regression model may have multicolliearity problem. This is a matrix algebra method. In Statsmodel, summary output will automatically highlight multicollinearity issue if the condition number is too high.\n",
    "- Check the [Variance Inflation Factor](https://en.wikipedia.org/wiki/Variance_inflation_factor) (VIF) method. As a rule of thumb, we interpret VIF for each predictor as follows:\n",
    "\n",
    "| VIF | Interpretation |\n",
    "| ----- | ----- |\n",
    "| VIF = 1 | Not correlated |\n",
    "| 1<VIF<5 | Moderately correlated |\n",
    "| VIF > 5 | Highly correlated |"
   ]
  },
  {
   "cell_type": "code",
   "execution_count": null,
   "metadata": {},
   "outputs": [],
   "source": [
    "# Construct a heatmap to check correlations between predictors.\n",
    "plt.figure(figsize=(12, 10))  # Adjust the figure size\n",
    "heatmap = sns.heatmap(df.corr(), annot=True, cmap='coolwarm', fmt=\".2f\", annot_kws={\"size\": 8})\n",
    "heatmap.set_xticklabels(heatmap.get_xticklabels(), rotation=45, horizontalalignment='right', fontsize=8)\n",
    "heatmap.set_yticklabels(heatmap.get_yticklabels(), fontsize=8)\n",
    "plt.show()"
   ]
  },
  {
   "cell_type": "markdown",
   "metadata": {},
   "source": [
    "No serious multicollinearity, continue to check"
   ]
  },
  {
   "cell_type": "code",
   "execution_count": null,
   "metadata": {},
   "outputs": [],
   "source": [
    "# To extract condition number, type: modelname.condition_number\n",
    "mlr_full.condition_number # for the whole model\n",
    "#still acceptable, why so high? "
   ]
  },
  {
   "cell_type": "markdown",
   "metadata": {},
   "source": [
    "### Condition Number is high  (5068760.6)"
   ]
  },
  {
   "cell_type": "markdown",
   "metadata": {},
   "source": [
    "# Check Multicollinearity (VIF)\n",
    "# To print out all VIFs by a \"for\" loop:"
   ]
  },
  {
   "cell_type": "code",
   "execution_count": null,
   "metadata": {},
   "outputs": [],
   "source": [
    "from statsmodels.stats.outliers_influence import variance_inflation_factor as vif\n",
    "\n",
    "# Determine the number of predictors\n",
    "num_predictors = len(mlr_full.model.exog_names)\n",
    "\n",
    "# Loop through each predictor to calculate VIF\n",
    "for i in range(num_predictors):\n",
    "    predictor = mlr_full.model.exog_names[i]\n",
    "    VIF = vif(mlr_full.model.exog, i)\n",
    "    print(predictor, VIF)"
   ]
  },
  {
   "cell_type": "markdown",
   "metadata": {},
   "source": [
    "### For Sex, Age, Race and On_Insulin_or_Diabetes_Med, Up_Leg_Len, Up_Arm_Len are not correlated\n",
    "### On_Insulin_or_Diabetes_Meds, Triceps_Sk, Subscapular_Sk, Alibumin, Blood_Urea, Creatinin and gh (Glycohemoglobin) are moderately correlated\n",
    "### Income_Min  and Income_Max, Weight_Kg, Height_cm, BMI, Arm_Cir, Waist_Cir,  are highly correlated"
   ]
  },
  {
   "cell_type": "markdown",
   "metadata": {},
   "source": [
    "# Step 4: Improve Model\n",
    "#Improve the model using at least 4 of the following techniques where appropriate:\n",
    "* Removing outlier(s) (if any)\n",
    "* Centering and/or standardizing of variables\n",
    "* Principal component analysis (PCA)\n",
    "* Transformation of variables\n",
    "* Interaction of variables\n",
    "* Variable selection\n",
    "\n",
    "Explain how the model is improved after applying each of the techniques.\n",
    "* [Remark: There is no “best” model or “standard” solution.]"
   ]
  },
  {
   "cell_type": "markdown",
   "metadata": {},
   "source": [
    "# 1. Removing Outlier(s) (if any) from the residuals"
   ]
  },
  {
   "cell_type": "code",
   "execution_count": null,
   "metadata": {},
   "outputs": [],
   "source": [
    "res.idxmin()  ## or, res.idxmax() "
   ]
  },
  {
   "cell_type": "code",
   "execution_count": null,
   "metadata": {},
   "outputs": [],
   "source": [
    "res[229]"
   ]
  },
  {
   "cell_type": "code",
   "execution_count": null,
   "metadata": {},
   "outputs": [],
   "source": [
    "df.iloc[229,:]"
   ]
  },
  {
   "cell_type": "code",
   "execution_count": null,
   "metadata": {},
   "outputs": [],
   "source": [
    "df2 = df.drop([229], axis=0)\n",
    "df2.shape"
   ]
  },
  {
   "cell_type": "code",
   "execution_count": null,
   "metadata": {},
   "outputs": [],
   "source": [
    "# Split data set into 75:25.\n",
    "\n",
    "from sklearn.model_selection import train_test_split\n",
    "dftrain2, dftest2 = train_test_split(df2, test_size=0.25, random_state=1938)\n",
    "\n",
    "# If you want to confirm ratio splitted:\n",
    "print( len(dftrain2)/len(df2) )\n",
    "print( len(dftest2)/len(df2) )"
   ]
  },
  {
   "cell_type": "code",
   "execution_count": null,
   "metadata": {},
   "outputs": [],
   "source": [
    "print(dftrain2.isna().any())"
   ]
  },
  {
   "cell_type": "code",
   "execution_count": null,
   "metadata": {},
   "outputs": [],
   "source": [
    "missingno.matrix(dftrain2, figsize = (30,10))"
   ]
  },
  {
   "cell_type": "code",
   "execution_count": null,
   "metadata": {},
   "outputs": [],
   "source": [
    "formula = (\n",
    "    \"diabetes ~ Sex + Age + On_Insulin_or_Diabetes_Meds + Height_cm + BMI + Arm_Cir + Waist_Cir + Alibumin + Blood_Urea + Creatinine + gh\"\n",
    ")\n",
    "mlr_full_2 = ols(formula, dftrain).fit()\n",
    "\n",
    "print(mlr_full_2.summary())\n",
    "print('\\nMSE =', mlr_full_2.mse_resid)"
   ]
  },
  {
   "cell_type": "markdown",
   "metadata": {},
   "source": [
    "### The 2nd model has slightly improved wiht Adj. R-sqr 0.613.\n",
    "### However, MSE is about the same."
   ]
  },
  {
   "cell_type": "code",
   "execution_count": null,
   "metadata": {},
   "outputs": [],
   "source": [
    "# Perform Backward Selection based on p-Values. Removed predictor with p-Values higher than 0.05 \n",
    "\n",
    "mlr_full_3 = ols(  \"diabetes ~ Sex + Age + On_Insulin_or_Diabetes_Meds + Height_cm + BMI + Arm_Cir + Waist_Cir + Alibumin + Blood_Urea + Creatinine + gh\", dftrain2).fit()\n",
    "print(mlr_full_3.summary())\n",
    "print('\\nMSE =', mlr_full_3.mse_resid)"
   ]
  },
  {
   "cell_type": "code",
   "execution_count": null,
   "metadata": {},
   "outputs": [],
   "source": [
    "# Perform Backward Selection based on p-Values. Removed predictor with p-Values higher than 0.05 \n",
    "\n",
    "mlr_full_3 = ols(  \"diabetes ~ Age + On_Insulin_or_Diabetes_Meds + BMI + Height_cm +  Creatinine + gh\", dftrain2).fit()\n",
    "print(mlr_full_3.summary())\n",
    "print('\\nMSE =', mlr_full_3.mse_resid)"
   ]
  },
  {
   "cell_type": "markdown",
   "metadata": {},
   "source": [
    "### The MSE of the models are slightly getting lower after removing the predictors (p-value > 0.05).\n",
    "### Adj. R2 has slightly improved. (62%)\n"
   ]
  },
  {
   "cell_type": "code",
   "execution_count": null,
   "metadata": {},
   "outputs": [],
   "source": [
    "res3 = mlr_full_3.resid\n",
    "len(res3)"
   ]
  },
  {
   "cell_type": "code",
   "execution_count": null,
   "metadata": {},
   "outputs": [],
   "source": [
    "sns.residplot(x=mlr_full_3.fittedvalues, y=res3)\n",
    "plt.title('Residual Plot')\n",
    "plt.xlabel('Fitted Values')\n",
    "plt.ylabel('Residuals')\n",
    "plt.show()\n",
    "#non linear pattern"
   ]
  },
  {
   "cell_type": "code",
   "execution_count": null,
   "metadata": {},
   "outputs": [],
   "source": [
    "### The residual plot is about the same as above."
   ]
  },
  {
   "cell_type": "code",
   "execution_count": null,
   "metadata": {},
   "outputs": [],
   "source": [
    "from statsmodels.stats.outliers_influence import variance_inflation_factor as vif\n",
    "\n",
    "for i in range(6):\n",
    "    predictor = mlr_full_3.model.exog_names[i]\n",
    "    Vif3 = vif(mlr_full_3.model.exog,i)\n",
    "    print(predictor,Vif3)"
   ]
  },
  {
   "cell_type": "markdown",
   "metadata": {},
   "source": [
    "### The multicollinearity problem is resolved or improved. It becomes moderately correlated for individual predictors (1<VIF<5)."
   ]
  },
  {
   "cell_type": "markdown",
   "metadata": {},
   "source": [
    "# 3. Create interaction of variables"
   ]
  },
  {
   "cell_type": "code",
   "execution_count": null,
   "metadata": {},
   "outputs": [],
   "source": [
    "# Create interation of variables\n",
    "#\"diabetes ~ Age + On_Insulin_or_Diabetes_Meds + BMI + Height_cm +  Creatinine + gh\"\n",
    "mlr_full_4 = ols(\"diabetes ~ Age + On_Insulin_or_Diabetes_Meds + BMI + Height_cm +  Creatinine + gh + BMI*Creatinine + On_Insulin_or_Diabetes_Meds*gh\", dftrain2).fit()\n",
    "print(mlr_full_4.summary())\n",
    "print('\\nMSE =', mlr_full_4.mse_resid)"
   ]
  },
  {
   "cell_type": "markdown",
   "metadata": {},
   "source": [
    "### Adj. R2 has been improved. (62.4%)\n",
    "### The MSE of this model is getting lower. (0.0432)\n",
    "### Cond. No. is 4.16e+03."
   ]
  },
  {
   "cell_type": "markdown",
   "metadata": {},
   "source": [
    "# 4. Transform variables"
   ]
  },
  {
   "cell_type": "markdown",
   "metadata": {},
   "source": [
    "### Removed some of the predictors with p-value > 0.05"
   ]
  },
  {
   "cell_type": "code",
   "execution_count": null,
   "metadata": {},
   "outputs": [],
   "source": [
    "mlr_full_5 = ols(\"diabetes ~ Age + I(On_Insulin_or_Diabetes_Meds**2) + BMI +  Creatinine + gh  + On_Insulin_or_Diabetes_Meds*gh\", dftrain2).fit()\n",
    "print(mlr_full_5.summary())\n",
    "print('\\nMSE =', mlr_full_5.mse_resid)"
   ]
  },
  {
   "cell_type": "code",
   "execution_count": null,
   "metadata": {},
   "outputs": [],
   "source": [
    "res5 = mlr_full_5.resid\n",
    "len(res5)"
   ]
  },
  {
   "cell_type": "code",
   "execution_count": null,
   "metadata": {},
   "outputs": [],
   "source": [
    "sns.residplot(x=mlr_full_5.fittedvalues, y=res5)\n",
    "plt.title('Residual Plot')\n",
    "plt.xlabel('Fitted Values')\n",
    "plt.ylabel('Residuals')\n",
    "plt.show()\n",
    "#linear pattern"
   ]
  },
  {
   "cell_type": "code",
   "execution_count": null,
   "metadata": {},
   "outputs": [],
   "source": [
    "# To inspect skewness, produce histograms\n",
    "fig = plt.figure(figsize=(12,4))\n",
    "\n",
    "ax = fig.add_subplot(121)\n",
    "plt.hist(dftrain2.diabetes)  # the response Y\n",
    "plt.title('histogram of response');\n",
    "\n",
    "ax = fig.add_subplot(122)\n",
    "plt.hist(res5)  # the residuals\n",
    "plt.title('histogram of residual');\n",
    "\n",
    "## Both plot are right skewiness"
   ]
  },
  {
   "cell_type": "code",
   "execution_count": null,
   "metadata": {},
   "outputs": [],
   "source": []
  }
 ],
 "metadata": {
  "kernelspec": {
   "display_name": "Python 3",
   "language": "python",
   "name": "python3"
  },
  "language_info": {
   "codemirror_mode": {
    "name": "ipython",
    "version": 3
   },
   "file_extension": ".py",
   "mimetype": "text/x-python",
   "name": "python",
   "nbconvert_exporter": "python",
   "pygments_lexer": "ipython3",
   "version": "3.8.3"
  }
 },
 "nbformat": 4,
 "nbformat_minor": 2
}
